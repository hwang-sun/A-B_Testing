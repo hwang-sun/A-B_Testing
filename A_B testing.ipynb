{
 "cells": [
  {
   "cell_type": "markdown",
   "id": "226efe86",
   "metadata": {},
   "source": [
    "# Problem Context\n",
    "---\n",
    "\n",
    "You are a data professional in a data analytics firm, called Automatidata. The company's newest client, the New York City Taxi & Limousine Commission (New York City TLC) requested a detailed statistical analysis of payment type. That is, do the customers who use a credit card pay higher fare amounts than those who use cash? \n",
    "\n",
    "That said, the TLC team is asking us to consider the following: \n",
    "\n",
    "- The relationship between fare amount and payment type. \n",
    "\n",
    "\n",
    "- Test the hypothesis that customers who use a credit card pay higher fare amounts.\n",
    "\n",
    "\n",
    "- Should you conclude that there is a statistically significant relationship between credit card payment and fare amount, discuss what the next steps should be: what are your thoughts on strategies our team could implement to encourage customers to pay with credit card?\n"
   ]
  },
  {
   "cell_type": "markdown",
   "id": "061d1507",
   "metadata": {},
   "source": [
    "# Project goal\n",
    "---\n",
    "The main purpose of this project is to \n",
    "Sample and analyze data to discover whether there is a relationship between payment type and total fare amount. For example: discover if customers who use credit cards pay higher total fare amounts than customers who use cash. Strategies can be made based on the result in order to find ways to generate more revenue for New York City taxi cab drivers."
   ]
  },
  {
   "cell_type": "markdown",
   "id": "81ecead1",
   "metadata": {},
   "source": [
    "# Data source\n",
    "---\n",
    "https://data.cityofnewyork.us/Transportation/2017-Yellow-Taxi-Trip-Data/biws-g3hs\n",
    "\n",
    "The TLC data comes from over 200,000 taxi and limousine licensees, making approximately one million combined trips per day. \n",
    "\n",
    "Remark: For the purpose of this project, assume that the sample data comes from an experiment in which customers are randomly selected and divided into two groups: \n",
    "\n",
    "1.  customers who are required to pay with credit card\n",
    "2.  customers who are required to pay with cash\n",
    "\n",
    "Without this assumption, we cannot draw causal conclusions about how payment method affects fare amount."
   ]
  },
  {
   "cell_type": "markdown",
   "id": "5b6d822d",
   "metadata": {},
   "source": [
    "# Analyzing data using PACE process:\n",
    "---\n",
    "\n",
    "- **Plan**: conceptualize the scope of the project and develop the steps that will guide you through the process of completing a project.\n",
    "\n",
    "\n",
    "- **Analyze**: collect, prepare, and analyze all of the data for your project.\n",
    "\n",
    "\n",
    "- **Construct**: build models that will allow you access to hidden relationships locked within data.\n",
    "\n",
    "\n",
    "- **Execute**: present the finding of your analysis, receive feedback, and make revisions as necessary."
   ]
  },
  {
   "cell_type": "markdown",
   "id": "e8a9233f",
   "metadata": {},
   "source": [
    "# PACE: Plan stage\n",
    "---\n",
    "- What is the project goal?\n",
    "- Who are the project stakeholders?\n",
    "- What are stakeholder's requirements?\n",
    "- What is the scope of the project?\n",
    "- What is the workflow to sucessfully perform this project?"
   ]
  },
  {
   "cell_type": "markdown",
   "id": "f8dbfe78",
   "metadata": {},
   "source": [
    "## Data Import"
   ]
  },
  {
   "cell_type": "code",
   "execution_count": 161,
   "id": "97016588",
   "metadata": {},
   "outputs": [],
   "source": [
    "import pandas as pd\n",
    "import numpy as np\n",
    "import matplotlib.pyplot as plt\n",
    "import seaborn as sns\n",
    "import warnings\n",
    "warnings.filterwarnings('ignore')"
   ]
  },
  {
   "cell_type": "code",
   "execution_count": 162,
   "id": "a2715199",
   "metadata": {},
   "outputs": [],
   "source": [
    "data = pd.read_csv('./Data/2017_Yellow_Taxi_Trip_Data.csv')"
   ]
  },
  {
   "cell_type": "code",
   "execution_count": 163,
   "id": "c12627c9",
   "metadata": {},
   "outputs": [
    {
     "data": {
      "text/html": [
       "<div>\n",
       "<style scoped>\n",
       "    .dataframe tbody tr th:only-of-type {\n",
       "        vertical-align: middle;\n",
       "    }\n",
       "\n",
       "    .dataframe tbody tr th {\n",
       "        vertical-align: top;\n",
       "    }\n",
       "\n",
       "    .dataframe thead th {\n",
       "        text-align: right;\n",
       "    }\n",
       "</style>\n",
       "<table border=\"1\" class=\"dataframe\">\n",
       "  <thead>\n",
       "    <tr style=\"text-align: right;\">\n",
       "      <th></th>\n",
       "      <th>Unnamed: 0</th>\n",
       "      <th>VendorID</th>\n",
       "      <th>tpep_pickup_datetime</th>\n",
       "      <th>tpep_dropoff_datetime</th>\n",
       "      <th>passenger_count</th>\n",
       "      <th>trip_distance</th>\n",
       "      <th>RatecodeID</th>\n",
       "      <th>store_and_fwd_flag</th>\n",
       "      <th>PULocationID</th>\n",
       "      <th>DOLocationID</th>\n",
       "      <th>payment_type</th>\n",
       "      <th>fare_amount</th>\n",
       "      <th>extra</th>\n",
       "      <th>mta_tax</th>\n",
       "      <th>tip_amount</th>\n",
       "      <th>tolls_amount</th>\n",
       "      <th>improvement_surcharge</th>\n",
       "      <th>total_amount</th>\n",
       "    </tr>\n",
       "  </thead>\n",
       "  <tbody>\n",
       "    <tr>\n",
       "      <th>0</th>\n",
       "      <td>24870114</td>\n",
       "      <td>2</td>\n",
       "      <td>03/25/2017 8:55:43 AM</td>\n",
       "      <td>03/25/2017 9:09:47 AM</td>\n",
       "      <td>6</td>\n",
       "      <td>3.34</td>\n",
       "      <td>1</td>\n",
       "      <td>N</td>\n",
       "      <td>100</td>\n",
       "      <td>231</td>\n",
       "      <td>1</td>\n",
       "      <td>13.0</td>\n",
       "      <td>0.0</td>\n",
       "      <td>0.5</td>\n",
       "      <td>2.76</td>\n",
       "      <td>0.0</td>\n",
       "      <td>0.3</td>\n",
       "      <td>16.56</td>\n",
       "    </tr>\n",
       "    <tr>\n",
       "      <th>1</th>\n",
       "      <td>35634249</td>\n",
       "      <td>1</td>\n",
       "      <td>04/11/2017 2:53:28 PM</td>\n",
       "      <td>04/11/2017 3:19:58 PM</td>\n",
       "      <td>1</td>\n",
       "      <td>1.80</td>\n",
       "      <td>1</td>\n",
       "      <td>N</td>\n",
       "      <td>186</td>\n",
       "      <td>43</td>\n",
       "      <td>1</td>\n",
       "      <td>16.0</td>\n",
       "      <td>0.0</td>\n",
       "      <td>0.5</td>\n",
       "      <td>4.00</td>\n",
       "      <td>0.0</td>\n",
       "      <td>0.3</td>\n",
       "      <td>20.80</td>\n",
       "    </tr>\n",
       "    <tr>\n",
       "      <th>2</th>\n",
       "      <td>106203690</td>\n",
       "      <td>1</td>\n",
       "      <td>12/15/2017 7:26:56 AM</td>\n",
       "      <td>12/15/2017 7:34:08 AM</td>\n",
       "      <td>1</td>\n",
       "      <td>1.00</td>\n",
       "      <td>1</td>\n",
       "      <td>N</td>\n",
       "      <td>262</td>\n",
       "      <td>236</td>\n",
       "      <td>1</td>\n",
       "      <td>6.5</td>\n",
       "      <td>0.0</td>\n",
       "      <td>0.5</td>\n",
       "      <td>1.45</td>\n",
       "      <td>0.0</td>\n",
       "      <td>0.3</td>\n",
       "      <td>8.75</td>\n",
       "    </tr>\n",
       "    <tr>\n",
       "      <th>3</th>\n",
       "      <td>38942136</td>\n",
       "      <td>2</td>\n",
       "      <td>05/07/2017 1:17:59 PM</td>\n",
       "      <td>05/07/2017 1:48:14 PM</td>\n",
       "      <td>1</td>\n",
       "      <td>3.70</td>\n",
       "      <td>1</td>\n",
       "      <td>N</td>\n",
       "      <td>188</td>\n",
       "      <td>97</td>\n",
       "      <td>1</td>\n",
       "      <td>20.5</td>\n",
       "      <td>0.0</td>\n",
       "      <td>0.5</td>\n",
       "      <td>6.39</td>\n",
       "      <td>0.0</td>\n",
       "      <td>0.3</td>\n",
       "      <td>27.69</td>\n",
       "    </tr>\n",
       "    <tr>\n",
       "      <th>4</th>\n",
       "      <td>30841670</td>\n",
       "      <td>2</td>\n",
       "      <td>04/15/2017 11:32:20 PM</td>\n",
       "      <td>04/15/2017 11:49:03 PM</td>\n",
       "      <td>1</td>\n",
       "      <td>4.37</td>\n",
       "      <td>1</td>\n",
       "      <td>N</td>\n",
       "      <td>4</td>\n",
       "      <td>112</td>\n",
       "      <td>2</td>\n",
       "      <td>16.5</td>\n",
       "      <td>0.5</td>\n",
       "      <td>0.5</td>\n",
       "      <td>0.00</td>\n",
       "      <td>0.0</td>\n",
       "      <td>0.3</td>\n",
       "      <td>17.80</td>\n",
       "    </tr>\n",
       "  </tbody>\n",
       "</table>\n",
       "</div>"
      ],
      "text/plain": [
       "   Unnamed: 0  VendorID    tpep_pickup_datetime   tpep_dropoff_datetime  \\\n",
       "0    24870114         2   03/25/2017 8:55:43 AM   03/25/2017 9:09:47 AM   \n",
       "1    35634249         1   04/11/2017 2:53:28 PM   04/11/2017 3:19:58 PM   \n",
       "2   106203690         1   12/15/2017 7:26:56 AM   12/15/2017 7:34:08 AM   \n",
       "3    38942136         2   05/07/2017 1:17:59 PM   05/07/2017 1:48:14 PM   \n",
       "4    30841670         2  04/15/2017 11:32:20 PM  04/15/2017 11:49:03 PM   \n",
       "\n",
       "   passenger_count  trip_distance  RatecodeID store_and_fwd_flag  \\\n",
       "0                6           3.34           1                  N   \n",
       "1                1           1.80           1                  N   \n",
       "2                1           1.00           1                  N   \n",
       "3                1           3.70           1                  N   \n",
       "4                1           4.37           1                  N   \n",
       "\n",
       "   PULocationID  DOLocationID  payment_type  fare_amount  extra  mta_tax  \\\n",
       "0           100           231             1         13.0    0.0      0.5   \n",
       "1           186            43             1         16.0    0.0      0.5   \n",
       "2           262           236             1          6.5    0.0      0.5   \n",
       "3           188            97             1         20.5    0.0      0.5   \n",
       "4             4           112             2         16.5    0.5      0.5   \n",
       "\n",
       "   tip_amount  tolls_amount  improvement_surcharge  total_amount  \n",
       "0        2.76           0.0                    0.3         16.56  \n",
       "1        4.00           0.0                    0.3         20.80  \n",
       "2        1.45           0.0                    0.3          8.75  \n",
       "3        6.39           0.0                    0.3         27.69  \n",
       "4        0.00           0.0                    0.3         17.80  "
      ]
     },
     "execution_count": 163,
     "metadata": {},
     "output_type": "execute_result"
    }
   ],
   "source": [
    "data.head()"
   ]
  },
  {
   "cell_type": "markdown",
   "id": "b5f59d27",
   "metadata": {},
   "source": [
    "# PACE: Analyze stage\n",
    "---\n",
    "\n",
    "- EDA\n",
    "- Data cleaning\n",
    "- Identify relationship between dependent and independent vairables"
   ]
  },
  {
   "cell_type": "markdown",
   "id": "75606c49",
   "metadata": {},
   "source": [
    "## 1. EDA\n",
    "\n",
    "- Categorical variables: `RatecodeID, store_and_fwd_flag, payment_type, extra, mta_tax`\n",
    "\n",
    "\n",
    "- Numerical variables: `passenger_count, trip_distance, fare_amount, tip_amount, tolls_amount, improvement_surcharge, total_amount`\n",
    "\n",
    "\n",
    "- Date-time variables: `tpep_pickup_datetime, tpep_dropoff_datetime`"
   ]
  },
  {
   "cell_type": "code",
   "execution_count": 164,
   "id": "ea410fc0",
   "metadata": {},
   "outputs": [
    {
     "name": "stdout",
     "output_type": "stream",
     "text": [
      "<class 'pandas.core.frame.DataFrame'>\n",
      "RangeIndex: 22699 entries, 0 to 22698\n",
      "Data columns (total 18 columns):\n",
      " #   Column                 Non-Null Count  Dtype  \n",
      "---  ------                 --------------  -----  \n",
      " 0   Unnamed: 0             22699 non-null  int64  \n",
      " 1   VendorID               22699 non-null  int64  \n",
      " 2   tpep_pickup_datetime   22699 non-null  object \n",
      " 3   tpep_dropoff_datetime  22699 non-null  object \n",
      " 4   passenger_count        22699 non-null  int64  \n",
      " 5   trip_distance          22699 non-null  float64\n",
      " 6   RatecodeID             22699 non-null  int64  \n",
      " 7   store_and_fwd_flag     22699 non-null  object \n",
      " 8   PULocationID           22699 non-null  int64  \n",
      " 9   DOLocationID           22699 non-null  int64  \n",
      " 10  payment_type           22699 non-null  int64  \n",
      " 11  fare_amount            22699 non-null  float64\n",
      " 12  extra                  22699 non-null  float64\n",
      " 13  mta_tax                22699 non-null  float64\n",
      " 14  tip_amount             22699 non-null  float64\n",
      " 15  tolls_amount           22699 non-null  float64\n",
      " 16  improvement_surcharge  22699 non-null  float64\n",
      " 17  total_amount           22699 non-null  float64\n",
      "dtypes: float64(8), int64(7), object(3)\n",
      "memory usage: 3.1+ MB\n"
     ]
    }
   ],
   "source": [
    "data.info()"
   ]
  },
  {
   "cell_type": "code",
   "execution_count": 165,
   "id": "6c5ea72e",
   "metadata": {},
   "outputs": [],
   "source": [
    "# change tpep_pickup_datetime and tpep_dropoff_datetime to date-time data type\n",
    "data['tpep_pickup_datetime'] = pd.to_datetime(data['tpep_pickup_datetime'])\n",
    "data['tpep_dropoff_datetime'] = pd.to_datetime(data['tpep_dropoff_datetime'])"
   ]
  },
  {
   "cell_type": "code",
   "execution_count": 166,
   "id": "f1292916",
   "metadata": {},
   "outputs": [
    {
     "data": {
      "text/html": [
       "<div>\n",
       "<style scoped>\n",
       "    .dataframe tbody tr th:only-of-type {\n",
       "        vertical-align: middle;\n",
       "    }\n",
       "\n",
       "    .dataframe tbody tr th {\n",
       "        vertical-align: top;\n",
       "    }\n",
       "\n",
       "    .dataframe thead th {\n",
       "        text-align: right;\n",
       "    }\n",
       "</style>\n",
       "<table border=\"1\" class=\"dataframe\">\n",
       "  <thead>\n",
       "    <tr style=\"text-align: right;\">\n",
       "      <th></th>\n",
       "      <th>Unnamed: 0</th>\n",
       "      <th>VendorID</th>\n",
       "      <th>tpep_pickup_datetime</th>\n",
       "      <th>tpep_dropoff_datetime</th>\n",
       "      <th>passenger_count</th>\n",
       "      <th>trip_distance</th>\n",
       "      <th>RatecodeID</th>\n",
       "      <th>store_and_fwd_flag</th>\n",
       "      <th>PULocationID</th>\n",
       "      <th>DOLocationID</th>\n",
       "      <th>payment_type</th>\n",
       "      <th>fare_amount</th>\n",
       "      <th>extra</th>\n",
       "      <th>mta_tax</th>\n",
       "      <th>tip_amount</th>\n",
       "      <th>tolls_amount</th>\n",
       "      <th>improvement_surcharge</th>\n",
       "      <th>total_amount</th>\n",
       "    </tr>\n",
       "  </thead>\n",
       "  <tbody>\n",
       "    <tr>\n",
       "      <th>count</th>\n",
       "      <td>2.269900e+04</td>\n",
       "      <td>22699.000000</td>\n",
       "      <td>22699</td>\n",
       "      <td>22699</td>\n",
       "      <td>22699.000000</td>\n",
       "      <td>22699.000000</td>\n",
       "      <td>22699.000000</td>\n",
       "      <td>22699</td>\n",
       "      <td>22699.000000</td>\n",
       "      <td>22699.000000</td>\n",
       "      <td>22699.000000</td>\n",
       "      <td>22699.000000</td>\n",
       "      <td>22699.000000</td>\n",
       "      <td>22699.000000</td>\n",
       "      <td>22699.000000</td>\n",
       "      <td>22699.000000</td>\n",
       "      <td>22699.000000</td>\n",
       "      <td>22699.000000</td>\n",
       "    </tr>\n",
       "    <tr>\n",
       "      <th>unique</th>\n",
       "      <td>NaN</td>\n",
       "      <td>NaN</td>\n",
       "      <td>22687</td>\n",
       "      <td>22688</td>\n",
       "      <td>NaN</td>\n",
       "      <td>NaN</td>\n",
       "      <td>NaN</td>\n",
       "      <td>2</td>\n",
       "      <td>NaN</td>\n",
       "      <td>NaN</td>\n",
       "      <td>NaN</td>\n",
       "      <td>NaN</td>\n",
       "      <td>NaN</td>\n",
       "      <td>NaN</td>\n",
       "      <td>NaN</td>\n",
       "      <td>NaN</td>\n",
       "      <td>NaN</td>\n",
       "      <td>NaN</td>\n",
       "    </tr>\n",
       "    <tr>\n",
       "      <th>top</th>\n",
       "      <td>NaN</td>\n",
       "      <td>NaN</td>\n",
       "      <td>2017-10-17 10:54:24</td>\n",
       "      <td>2017-10-18 20:07:45</td>\n",
       "      <td>NaN</td>\n",
       "      <td>NaN</td>\n",
       "      <td>NaN</td>\n",
       "      <td>N</td>\n",
       "      <td>NaN</td>\n",
       "      <td>NaN</td>\n",
       "      <td>NaN</td>\n",
       "      <td>NaN</td>\n",
       "      <td>NaN</td>\n",
       "      <td>NaN</td>\n",
       "      <td>NaN</td>\n",
       "      <td>NaN</td>\n",
       "      <td>NaN</td>\n",
       "      <td>NaN</td>\n",
       "    </tr>\n",
       "    <tr>\n",
       "      <th>freq</th>\n",
       "      <td>NaN</td>\n",
       "      <td>NaN</td>\n",
       "      <td>2</td>\n",
       "      <td>2</td>\n",
       "      <td>NaN</td>\n",
       "      <td>NaN</td>\n",
       "      <td>NaN</td>\n",
       "      <td>22600</td>\n",
       "      <td>NaN</td>\n",
       "      <td>NaN</td>\n",
       "      <td>NaN</td>\n",
       "      <td>NaN</td>\n",
       "      <td>NaN</td>\n",
       "      <td>NaN</td>\n",
       "      <td>NaN</td>\n",
       "      <td>NaN</td>\n",
       "      <td>NaN</td>\n",
       "      <td>NaN</td>\n",
       "    </tr>\n",
       "    <tr>\n",
       "      <th>first</th>\n",
       "      <td>NaN</td>\n",
       "      <td>NaN</td>\n",
       "      <td>2017-01-01 00:08:25</td>\n",
       "      <td>2017-01-01 00:17:20</td>\n",
       "      <td>NaN</td>\n",
       "      <td>NaN</td>\n",
       "      <td>NaN</td>\n",
       "      <td>NaN</td>\n",
       "      <td>NaN</td>\n",
       "      <td>NaN</td>\n",
       "      <td>NaN</td>\n",
       "      <td>NaN</td>\n",
       "      <td>NaN</td>\n",
       "      <td>NaN</td>\n",
       "      <td>NaN</td>\n",
       "      <td>NaN</td>\n",
       "      <td>NaN</td>\n",
       "      <td>NaN</td>\n",
       "    </tr>\n",
       "    <tr>\n",
       "      <th>last</th>\n",
       "      <td>NaN</td>\n",
       "      <td>NaN</td>\n",
       "      <td>2017-12-31 23:45:30</td>\n",
       "      <td>2017-12-31 23:49:24</td>\n",
       "      <td>NaN</td>\n",
       "      <td>NaN</td>\n",
       "      <td>NaN</td>\n",
       "      <td>NaN</td>\n",
       "      <td>NaN</td>\n",
       "      <td>NaN</td>\n",
       "      <td>NaN</td>\n",
       "      <td>NaN</td>\n",
       "      <td>NaN</td>\n",
       "      <td>NaN</td>\n",
       "      <td>NaN</td>\n",
       "      <td>NaN</td>\n",
       "      <td>NaN</td>\n",
       "      <td>NaN</td>\n",
       "    </tr>\n",
       "    <tr>\n",
       "      <th>mean</th>\n",
       "      <td>5.675849e+07</td>\n",
       "      <td>1.556236</td>\n",
       "      <td>NaN</td>\n",
       "      <td>NaN</td>\n",
       "      <td>1.642319</td>\n",
       "      <td>2.913313</td>\n",
       "      <td>1.043394</td>\n",
       "      <td>NaN</td>\n",
       "      <td>162.412353</td>\n",
       "      <td>161.527997</td>\n",
       "      <td>1.336887</td>\n",
       "      <td>13.026629</td>\n",
       "      <td>0.333275</td>\n",
       "      <td>0.497445</td>\n",
       "      <td>1.835781</td>\n",
       "      <td>0.312542</td>\n",
       "      <td>0.299551</td>\n",
       "      <td>16.310502</td>\n",
       "    </tr>\n",
       "    <tr>\n",
       "      <th>std</th>\n",
       "      <td>3.274493e+07</td>\n",
       "      <td>0.496838</td>\n",
       "      <td>NaN</td>\n",
       "      <td>NaN</td>\n",
       "      <td>1.285231</td>\n",
       "      <td>3.653171</td>\n",
       "      <td>0.708391</td>\n",
       "      <td>NaN</td>\n",
       "      <td>66.633373</td>\n",
       "      <td>70.139691</td>\n",
       "      <td>0.496211</td>\n",
       "      <td>13.243791</td>\n",
       "      <td>0.463097</td>\n",
       "      <td>0.039465</td>\n",
       "      <td>2.800626</td>\n",
       "      <td>1.399212</td>\n",
       "      <td>0.015673</td>\n",
       "      <td>16.097295</td>\n",
       "    </tr>\n",
       "    <tr>\n",
       "      <th>min</th>\n",
       "      <td>1.212700e+04</td>\n",
       "      <td>1.000000</td>\n",
       "      <td>NaN</td>\n",
       "      <td>NaN</td>\n",
       "      <td>0.000000</td>\n",
       "      <td>0.000000</td>\n",
       "      <td>1.000000</td>\n",
       "      <td>NaN</td>\n",
       "      <td>1.000000</td>\n",
       "      <td>1.000000</td>\n",
       "      <td>1.000000</td>\n",
       "      <td>-120.000000</td>\n",
       "      <td>-1.000000</td>\n",
       "      <td>-0.500000</td>\n",
       "      <td>0.000000</td>\n",
       "      <td>0.000000</td>\n",
       "      <td>-0.300000</td>\n",
       "      <td>-120.300000</td>\n",
       "    </tr>\n",
       "    <tr>\n",
       "      <th>25%</th>\n",
       "      <td>2.852056e+07</td>\n",
       "      <td>1.000000</td>\n",
       "      <td>NaN</td>\n",
       "      <td>NaN</td>\n",
       "      <td>1.000000</td>\n",
       "      <td>0.990000</td>\n",
       "      <td>1.000000</td>\n",
       "      <td>NaN</td>\n",
       "      <td>114.000000</td>\n",
       "      <td>112.000000</td>\n",
       "      <td>1.000000</td>\n",
       "      <td>6.500000</td>\n",
       "      <td>0.000000</td>\n",
       "      <td>0.500000</td>\n",
       "      <td>0.000000</td>\n",
       "      <td>0.000000</td>\n",
       "      <td>0.300000</td>\n",
       "      <td>8.750000</td>\n",
       "    </tr>\n",
       "    <tr>\n",
       "      <th>50%</th>\n",
       "      <td>5.673150e+07</td>\n",
       "      <td>2.000000</td>\n",
       "      <td>NaN</td>\n",
       "      <td>NaN</td>\n",
       "      <td>1.000000</td>\n",
       "      <td>1.610000</td>\n",
       "      <td>1.000000</td>\n",
       "      <td>NaN</td>\n",
       "      <td>162.000000</td>\n",
       "      <td>162.000000</td>\n",
       "      <td>1.000000</td>\n",
       "      <td>9.500000</td>\n",
       "      <td>0.000000</td>\n",
       "      <td>0.500000</td>\n",
       "      <td>1.350000</td>\n",
       "      <td>0.000000</td>\n",
       "      <td>0.300000</td>\n",
       "      <td>11.800000</td>\n",
       "    </tr>\n",
       "    <tr>\n",
       "      <th>75%</th>\n",
       "      <td>8.537452e+07</td>\n",
       "      <td>2.000000</td>\n",
       "      <td>NaN</td>\n",
       "      <td>NaN</td>\n",
       "      <td>2.000000</td>\n",
       "      <td>3.060000</td>\n",
       "      <td>1.000000</td>\n",
       "      <td>NaN</td>\n",
       "      <td>233.000000</td>\n",
       "      <td>233.000000</td>\n",
       "      <td>2.000000</td>\n",
       "      <td>14.500000</td>\n",
       "      <td>0.500000</td>\n",
       "      <td>0.500000</td>\n",
       "      <td>2.450000</td>\n",
       "      <td>0.000000</td>\n",
       "      <td>0.300000</td>\n",
       "      <td>17.800000</td>\n",
       "    </tr>\n",
       "    <tr>\n",
       "      <th>max</th>\n",
       "      <td>1.134863e+08</td>\n",
       "      <td>2.000000</td>\n",
       "      <td>NaN</td>\n",
       "      <td>NaN</td>\n",
       "      <td>6.000000</td>\n",
       "      <td>33.960000</td>\n",
       "      <td>99.000000</td>\n",
       "      <td>NaN</td>\n",
       "      <td>265.000000</td>\n",
       "      <td>265.000000</td>\n",
       "      <td>4.000000</td>\n",
       "      <td>999.990000</td>\n",
       "      <td>4.500000</td>\n",
       "      <td>0.500000</td>\n",
       "      <td>200.000000</td>\n",
       "      <td>19.100000</td>\n",
       "      <td>0.300000</td>\n",
       "      <td>1200.290000</td>\n",
       "    </tr>\n",
       "  </tbody>\n",
       "</table>\n",
       "</div>"
      ],
      "text/plain": [
       "          Unnamed: 0      VendorID tpep_pickup_datetime tpep_dropoff_datetime  \\\n",
       "count   2.269900e+04  22699.000000                22699                 22699   \n",
       "unique           NaN           NaN                22687                 22688   \n",
       "top              NaN           NaN  2017-10-17 10:54:24   2017-10-18 20:07:45   \n",
       "freq             NaN           NaN                    2                     2   \n",
       "first            NaN           NaN  2017-01-01 00:08:25   2017-01-01 00:17:20   \n",
       "last             NaN           NaN  2017-12-31 23:45:30   2017-12-31 23:49:24   \n",
       "mean    5.675849e+07      1.556236                  NaN                   NaN   \n",
       "std     3.274493e+07      0.496838                  NaN                   NaN   \n",
       "min     1.212700e+04      1.000000                  NaN                   NaN   \n",
       "25%     2.852056e+07      1.000000                  NaN                   NaN   \n",
       "50%     5.673150e+07      2.000000                  NaN                   NaN   \n",
       "75%     8.537452e+07      2.000000                  NaN                   NaN   \n",
       "max     1.134863e+08      2.000000                  NaN                   NaN   \n",
       "\n",
       "        passenger_count  trip_distance    RatecodeID store_and_fwd_flag  \\\n",
       "count      22699.000000   22699.000000  22699.000000              22699   \n",
       "unique              NaN            NaN           NaN                  2   \n",
       "top                 NaN            NaN           NaN                  N   \n",
       "freq                NaN            NaN           NaN              22600   \n",
       "first               NaN            NaN           NaN                NaN   \n",
       "last                NaN            NaN           NaN                NaN   \n",
       "mean           1.642319       2.913313      1.043394                NaN   \n",
       "std            1.285231       3.653171      0.708391                NaN   \n",
       "min            0.000000       0.000000      1.000000                NaN   \n",
       "25%            1.000000       0.990000      1.000000                NaN   \n",
       "50%            1.000000       1.610000      1.000000                NaN   \n",
       "75%            2.000000       3.060000      1.000000                NaN   \n",
       "max            6.000000      33.960000     99.000000                NaN   \n",
       "\n",
       "        PULocationID  DOLocationID  payment_type   fare_amount         extra  \\\n",
       "count   22699.000000  22699.000000  22699.000000  22699.000000  22699.000000   \n",
       "unique           NaN           NaN           NaN           NaN           NaN   \n",
       "top              NaN           NaN           NaN           NaN           NaN   \n",
       "freq             NaN           NaN           NaN           NaN           NaN   \n",
       "first            NaN           NaN           NaN           NaN           NaN   \n",
       "last             NaN           NaN           NaN           NaN           NaN   \n",
       "mean      162.412353    161.527997      1.336887     13.026629      0.333275   \n",
       "std        66.633373     70.139691      0.496211     13.243791      0.463097   \n",
       "min         1.000000      1.000000      1.000000   -120.000000     -1.000000   \n",
       "25%       114.000000    112.000000      1.000000      6.500000      0.000000   \n",
       "50%       162.000000    162.000000      1.000000      9.500000      0.000000   \n",
       "75%       233.000000    233.000000      2.000000     14.500000      0.500000   \n",
       "max       265.000000    265.000000      4.000000    999.990000      4.500000   \n",
       "\n",
       "             mta_tax    tip_amount  tolls_amount  improvement_surcharge  \\\n",
       "count   22699.000000  22699.000000  22699.000000           22699.000000   \n",
       "unique           NaN           NaN           NaN                    NaN   \n",
       "top              NaN           NaN           NaN                    NaN   \n",
       "freq             NaN           NaN           NaN                    NaN   \n",
       "first            NaN           NaN           NaN                    NaN   \n",
       "last             NaN           NaN           NaN                    NaN   \n",
       "mean        0.497445      1.835781      0.312542               0.299551   \n",
       "std         0.039465      2.800626      1.399212               0.015673   \n",
       "min        -0.500000      0.000000      0.000000              -0.300000   \n",
       "25%         0.500000      0.000000      0.000000               0.300000   \n",
       "50%         0.500000      1.350000      0.000000               0.300000   \n",
       "75%         0.500000      2.450000      0.000000               0.300000   \n",
       "max         0.500000    200.000000     19.100000               0.300000   \n",
       "\n",
       "        total_amount  \n",
       "count   22699.000000  \n",
       "unique           NaN  \n",
       "top              NaN  \n",
       "freq             NaN  \n",
       "first            NaN  \n",
       "last             NaN  \n",
       "mean       16.310502  \n",
       "std        16.097295  \n",
       "min      -120.300000  \n",
       "25%         8.750000  \n",
       "50%        11.800000  \n",
       "75%        17.800000  \n",
       "max      1200.290000  "
      ]
     },
     "execution_count": 166,
     "metadata": {},
     "output_type": "execute_result"
    }
   ],
   "source": [
    "data.describe(include = 'all')"
   ]
  },
  {
   "cell_type": "code",
   "execution_count": 167,
   "id": "bb5007dd",
   "metadata": {},
   "outputs": [
    {
     "data": {
      "text/plain": [
       "Index(['Unnamed: 0', 'VendorID', 'tpep_pickup_datetime',\n",
       "       'tpep_dropoff_datetime', 'passenger_count', 'trip_distance',\n",
       "       'RatecodeID', 'store_and_fwd_flag', 'PULocationID', 'DOLocationID',\n",
       "       'payment_type', 'fare_amount', 'extra', 'mta_tax', 'tip_amount',\n",
       "       'tolls_amount', 'improvement_surcharge', 'total_amount'],\n",
       "      dtype='object')"
      ]
     },
     "execution_count": 167,
     "metadata": {},
     "output_type": "execute_result"
    }
   ],
   "source": [
    "data.columns"
   ]
  },
  {
   "cell_type": "code",
   "execution_count": 168,
   "id": "2831e6d6",
   "metadata": {},
   "outputs": [
    {
     "name": "stdout",
     "output_type": "stream",
     "text": [
      "\"Unnamed: 0\" has no missing values\n",
      "\"VendorID\" has no missing values\n",
      "\"tpep_pickup_datetime\" has no missing values\n",
      "\"tpep_dropoff_datetime\" has no missing values\n",
      "\"passenger_count\" has no missing values\n",
      "\"trip_distance\" has no missing values\n",
      "\"RatecodeID\" has no missing values\n",
      "\"store_and_fwd_flag\" has no missing values\n",
      "\"PULocationID\" has no missing values\n",
      "\"DOLocationID\" has no missing values\n",
      "\"payment_type\" has no missing values\n",
      "\"fare_amount\" has no missing values\n",
      "\"extra\" has no missing values\n",
      "\"mta_tax\" has no missing values\n",
      "\"tip_amount\" has no missing values\n",
      "\"tolls_amount\" has no missing values\n",
      "\"improvement_surcharge\" has no missing values\n",
      "\"total_amount\" has no missing values\n"
     ]
    }
   ],
   "source": [
    "# Data Cleaning : Identify and handle missing values\n",
    "for i in data.columns:\n",
    "    total = data[i].isna().sum()\n",
    "    if total > 0:\n",
    "        print(f'\"{i}\" has missing values: {round(total, 2)} ~ {round(total*100/data.shape[0], 2)}%')\n",
    "    else:\n",
    "        print(f'\"{i}\" has no missing values')"
   ]
  },
  {
   "cell_type": "markdown",
   "id": "3d468a29",
   "metadata": {},
   "source": [
    "Data have no missing values"
   ]
  },
  {
   "cell_type": "code",
   "execution_count": 169,
   "id": "b76ae60c",
   "metadata": {},
   "outputs": [
    {
     "data": {
      "text/plain": [
       "0"
      ]
     },
     "execution_count": 169,
     "metadata": {},
     "output_type": "execute_result"
    }
   ],
   "source": [
    "# Data Cleaning : Identify and handle duplicates\n",
    "data.duplicated().sum()"
   ]
  },
  {
   "cell_type": "markdown",
   "id": "b6c41594",
   "metadata": {},
   "source": [
    "Data have no duplicates"
   ]
  },
  {
   "cell_type": "code",
   "execution_count": 170,
   "id": "56290459",
   "metadata": {},
   "outputs": [
    {
     "data": {
      "text/plain": [
       "(22699, 18)"
      ]
     },
     "execution_count": 170,
     "metadata": {},
     "output_type": "execute_result"
    }
   ],
   "source": [
    "data.shape"
   ]
  },
  {
   "cell_type": "markdown",
   "id": "5a0e8da4",
   "metadata": {},
   "source": [
    "### 1.1 Categorical variables exploration"
   ]
  },
  {
   "cell_type": "code",
   "execution_count": 171,
   "id": "d429193e",
   "metadata": {},
   "outputs": [],
   "source": [
    "# create function for data visualization\n",
    "def plot(df, feat_lst, output, n_rows, n_cols, plot_type):\n",
    "    plt.style.use('seaborn-whitegrid')\n",
    "    fig, ax = plt.subplots(nrows = n_rows, ncols = n_cols, figsize=(n_cols*3.5, n_rows*3.5))\n",
    "    for r in range(n_rows):\n",
    "        for c in range(n_cols):\n",
    "            i = r*n_cols + c\n",
    "            if i < len(feat_lst):\n",
    "                ax_i = ax[r, c]\n",
    "                if plot_type == 'countplot':\n",
    "                    sns.countplot(data = df, x=feat_lst[i], hue=output, ax = ax_i, palette = 'muted')\n",
    "                    ax_i.legend(title = '', loc='upper right')\n",
    "                elif plot_type == 'histplot':\n",
    "                    sns.histplot(data = df, x=feat_lst[i], hue=output, ax=ax_i, kde=True, bins=10, palette = 'viridis')\n",
    "                else:\n",
    "                    sns.boxplot(data=df, x=feat_lst[i], ax=ax_i, palette = 'pastel')\n",
    "                ax_i.set_title(f\"Figure {i+1}: {feat_lst[i]}\", fontsize = 18)\n",
    "                plt.setp(ax_i.get_xticklabels(), rotation=45, fontsize=13)\n",
    "                ax_i.set_xlabel(feat_lst[i], fontsize=15)\n",
    "    \n",
    "    if (n_rows * n_cols) > len(feat_lst):\n",
    "        for k in range((n_rows*n_cols) - len(feat_lst)):\n",
    "            ax.flat[-(k+1)].set_visible(False)\n",
    "    \n",
    "    plt.tight_layout()\n",
    "    plt.show();"
   ]
  },
  {
   "cell_type": "code",
   "execution_count": 172,
   "id": "713cd3e4",
   "metadata": {},
   "outputs": [],
   "source": [
    "category_cols = ['RatecodeID', 'store_and_fwd_flag', 'payment_type', 'extra', 'mta_tax']"
   ]
  },
  {
   "cell_type": "code",
   "execution_count": 173,
   "id": "b4aedff2",
   "metadata": {},
   "outputs": [
    {
     "name": "stderr",
     "output_type": "stream",
     "text": [
      "No handles with labels found to put in legend.\n",
      "No handles with labels found to put in legend.\n",
      "No handles with labels found to put in legend.\n",
      "No handles with labels found to put in legend.\n",
      "No handles with labels found to put in legend.\n"
     ]
    },
    {
     "data": {
      "image/png": "[encoded data removed]",
      "text/plain": [
       "<Figure size 756x504 with 6 Axes>"
      ]
     },
     "metadata": {},
     "output_type": "display_data"
    }
   ],
   "source": [
    "plot(df = data, feat_lst = category_cols, output = None, n_rows = 2, n_cols = 3, plot_type = 'countplot')"
   ]
  },
  {
   "cell_type": "markdown",
   "id": "da1b523e",
   "metadata": {},
   "source": [
    "- *RatecodeID*: has inconsistent value of 99 \n",
    "- *store_and_fwd_flag*: most of observations were held in vehicle memory before being sent to the vendor\n",
    "- *payment_type*: most customers paid by credit card and cash. It's also notable that customers from the dataset only have 4 payment type while the metadata show there were 6 types.\n",
    "- *extra* : the column has inconsistent values and needed to be removed. Most of customers used the service during regular transportanting condition, followed by rush hour and overnight service.\n",
    "- *mta_tax* : there're also inconsistent data point and need cleaning"
   ]
  },
  {
   "cell_type": "code",
   "execution_count": 174,
   "id": "a9c3ae2c",
   "metadata": {},
   "outputs": [],
   "source": [
    "# Data Cleaning : handle inconsistent data points\n",
    "data['RatecodeID'] = data.loc[data['RatecodeID'] != 99]['RatecodeID']\n",
    "data['extra'] = data.loc[data['extra'].isin([0.0, 0.5, 1.0])]['extra']\n",
    "data['mta_tax'] = data.loc[~ (data['mta_tax'] == -0.5)]['mta_tax']"
   ]
  },
  {
   "cell_type": "code",
   "execution_count": 175,
   "id": "d658b7b2",
   "metadata": {},
   "outputs": [
    {
     "name": "stderr",
     "output_type": "stream",
     "text": [
      "No handles with labels found to put in legend.\n",
      "No handles with labels found to put in legend.\n",
      "No handles with labels found to put in legend.\n",
      "No handles with labels found to put in legend.\n",
      "No handles with labels found to put in legend.\n"
     ]
    },
    {
     "data": {
      "image/png": "[encoded data removed]",
      "text/plain": [
       "<Figure size 756x504 with 6 Axes>"
      ]
     },
     "metadata": {},
     "output_type": "display_data"
    }
   ],
   "source": [
    "# data validation\n",
    "plot(df = data, feat_lst = category_cols, output = None, n_rows = 2, n_cols = 3, plot_type = 'countplot')"
   ]
  },
  {
   "cell_type": "markdown",
   "id": "2bdaed45",
   "metadata": {},
   "source": [
    "### 1.2 Numerical exploration"
   ]
  },
  {
   "cell_type": "code",
   "execution_count": 176,
   "id": "3c5dd3c5",
   "metadata": {},
   "outputs": [],
   "source": [
    "num_cols = ['passenger_count', 'trip_distance', 'fare_amount', 'tip_amount', \n",
    "            'tolls_amount', 'improvement_surcharge', 'total_amount']"
   ]
  },
  {
   "cell_type": "code",
   "execution_count": 177,
   "id": "6b63529c",
   "metadata": {},
   "outputs": [
    {
     "data": {
      "image/png": "[encoded data removed]",
      "text/plain": [
       "<Figure size 1008x504 with 8 Axes>"
      ]
     },
     "metadata": {},
     "output_type": "display_data"
    }
   ],
   "source": [
    "plot(df = data, feat_lst = num_cols, output = None, n_rows = 2, n_cols = 4, plot_type = None)"
   ]
  },
  {
   "cell_type": "markdown",
   "id": "6662e78c",
   "metadata": {},
   "source": [
    "- Overall, the continuous variables contain lots of outliners. As `fare_amount` variable is the main feature for this project scope, I would remove outliners from this column to ensure the validity of the result.\n",
    "\n",
    "\n",
    "- `trip_distance`, `fare_amount`, and `passenger_count` with values less or equal 0 also need to be removed from the dataset"
   ]
  },
  {
   "cell_type": "code",
   "execution_count": 178,
   "id": "d07e95aa",
   "metadata": {},
   "outputs": [
    {
     "data": {
      "text/plain": [
       "Unnamed: 0               0\n",
       "VendorID                 0\n",
       "tpep_pickup_datetime     0\n",
       "tpep_dropoff_datetime    0\n",
       "passenger_count          0\n",
       "trip_distance            0\n",
       "RatecodeID               0\n",
       "store_and_fwd_flag       0\n",
       "PULocationID             0\n",
       "DOLocationID             0\n",
       "payment_type             0\n",
       "fare_amount              0\n",
       "extra                    0\n",
       "mta_tax                  0\n",
       "tip_amount               0\n",
       "tolls_amount             0\n",
       "improvement_surcharge    0\n",
       "total_amount             0\n",
       "dtype: int64"
      ]
     },
     "execution_count": 178,
     "metadata": {},
     "output_type": "execute_result"
    }
   ],
   "source": [
    "# Data Cleaning : handle zero and negative values\n",
    "data['passenger_count'] = data.loc[data['passenger_count'] > 0]['passenger_count']\n",
    "data['trip_distance'] = data.loc[data['trip_distance'] > 0]['trip_distance']\n",
    "data['fare_amount'] = data.loc[data['fare_amount'] > 0]['fare_amount']\n",
    "data['total_amount'] = data.loc[data['total_amount'] > 0]['total_amount']\n",
    "\n",
    "data.dropna(axis = 0, inplace = True)\n",
    "data.isna().sum()"
   ]
  },
  {
   "cell_type": "code",
   "execution_count": 179,
   "id": "84b84790",
   "metadata": {},
   "outputs": [
    {
     "name": "stdout",
     "output_type": "stream",
     "text": [
      "Number of outliners: 2041\n"
     ]
    }
   ],
   "source": [
    "# Determine outliners by IQR\n",
    "Q3 = data['total_amount'].quantile(0.75)\n",
    "Q1 = data['total_amount'].quantile(0.25)\n",
    "IQR = Q3 - Q1\n",
    "upper = Q3 + 1.5*IQR\n",
    "lower = Q1 - 1.5*IQR\n",
    "outliner_index = data.loc[(data['total_amount'] < lower) | (data['total_amount'] > upper)].index\n",
    "print('Number of outliners:', len(outliner_index))"
   ]
  },
  {
   "cell_type": "code",
   "execution_count": 180,
   "id": "43311d52",
   "metadata": {},
   "outputs": [
    {
     "data": {
      "image/png": "[encoded data removed]",
      "text/plain": [
       "<Figure size 432x288 with 1 Axes>"
      ]
     },
     "metadata": {},
     "output_type": "display_data"
    }
   ],
   "source": [
    "# remove outliners\n",
    "data.drop(index = outliner_index, inplace = True)\n",
    "\n",
    "# show feature distribution after removing outliners\n",
    "data['total_amount'].plot.hist()\n",
    "plt.title('Total fare amount distribution')\n",
    "plt.show();"
   ]
  },
  {
   "cell_type": "code",
   "execution_count": 181,
   "id": "3c489cd8",
   "metadata": {},
   "outputs": [
    {
     "data": {
      "text/plain": [
       "(20363, 18)"
      ]
     },
     "execution_count": 181,
     "metadata": {},
     "output_type": "execute_result"
    }
   ],
   "source": [
    "# checking data size after removing outliners\n",
    "data.shape"
   ]
  },
  {
   "cell_type": "markdown",
   "id": "dc512033",
   "metadata": {},
   "source": [
    "## 2. Identify relationship\n",
    "- Is there a relationship between `total_amount` and `payment_type`?\n",
    "- What is the average total fare amount in each payment type?"
   ]
  },
  {
   "cell_type": "code",
   "execution_count": 182,
   "id": "264ecd92",
   "metadata": {},
   "outputs": [
    {
     "data": {
      "text/plain": [
       "payment_type\n",
       "1    13.367280\n",
       "2    11.048171\n",
       "3    10.700125\n",
       "4    12.224375\n",
       "Name: total_amount, dtype: float64"
      ]
     },
     "metadata": {},
     "output_type": "display_data"
    },
    {
     "data": {
      "text/plain": [
       "payment_type\n",
       "1    5.662625\n",
       "2    5.438138\n",
       "3    6.569687\n",
       "4    7.136203\n",
       "Name: total_amount, dtype: float64"
      ]
     },
     "metadata": {},
     "output_type": "display_data"
    }
   ],
   "source": [
    "# Discover the relationship between \"fare_amount\" and \"payment_type\"\n",
    "\n",
    "# calculate mean and standard deviation between different groups of payment_type\n",
    "mean = data.groupby('payment_type')['total_amount'].mean()\n",
    "std = data.groupby('payment_type')['total_amount'].std()\n",
    "\n",
    "display(mean, std)"
   ]
  },
  {
   "cell_type": "code",
   "execution_count": 183,
   "id": "4a37cea0",
   "metadata": {},
   "outputs": [
    {
     "data": {
      "image/png": "[encoded data removed]",
      "text/plain": [
       "<Figure size 1080x360 with 2 Axes>"
      ]
     },
     "metadata": {},
     "output_type": "display_data"
    }
   ],
   "source": [
    "plt.figure(figsize = (15, 5))\n",
    "plt.subplot(1, 2, 1)\n",
    "sns.barplot(mean.index, mean.values, palette = 'viridis')\n",
    "plt.xlabel('Payment type', fontsize = 13)\n",
    "plt.ylabel('Average total fare amount', fontsize = 13)\n",
    "plt.title('Average Total Fare Amount by Payment Type', fontsize = 15)\n",
    "plt.subplot(1, 2, 2)\n",
    "sns.violinplot(data['payment_type'], data['total_amount'], palette = 'viridis')\n",
    "plt.xlabel('Payment type', fontsize = 13)\n",
    "plt.ylabel('Total amount', fontsize = 13)\n",
    "plt.title('Total Fare Amount distribution by Payment Type', fontsize = 15)\n",
    "plt.show();"
   ]
  },
  {
   "cell_type": "markdown",
   "id": "1d230c45",
   "metadata": {},
   "source": [
    "There's a variation in average `total_amount` across groups of `payment_type`, and each group distribution seems to have slight difference. However, the difference is not substantial indicating the relationship between `payment_type` and `total_amount` is just moderate.\n",
    "\n",
    "On the other hand, based on the average values between group 1 (*customers who paid in credit card*) and group 2 (*customers who paid in cash*), it appears that customers from group 1 tend to pay a larger total fare amount than customers from group 2. However, this difference might arise from random sampling, so in order to assess whether the difference is statistically significant, I conduct a hypothesis test."
   ]
  },
  {
   "cell_type": "code",
   "execution_count": 184,
   "id": "e44534c2",
   "metadata": {},
   "outputs": [
    {
     "name": "stdout",
     "output_type": "stream",
     "text": [
      "Pearson correlation between fare_amount and payment_type: -0.1870382973436317\n"
     ]
    }
   ],
   "source": [
    "# calculate pearson correlation between fare_amount and payment_type\n",
    "corr = data[['total_amount', 'payment_type']].corr(method = 'pearson').iloc[-1, 0]\n",
    "print('Pearson correlation between fare_amount and payment_type:', corr)"
   ]
  },
  {
   "cell_type": "markdown",
   "id": "bb1a79e8",
   "metadata": {},
   "source": [
    "Pearson correlation score equals $-0.187$ confirm again that the relationship between `fare_amount` and `payment_type` is weak and not substantial."
   ]
  },
  {
   "cell_type": "markdown",
   "id": "0e9809f8",
   "metadata": {},
   "source": [
    "# PACE: Construct stage\n",
    "---\n",
    "- How to perform A/B testing?\n",
    "- How to assure the A/B result is valid and not biased?"
   ]
  },
  {
   "cell_type": "markdown",
   "id": "04ccc412",
   "metadata": {},
   "source": [
    "## Procedure for performing A/B test and assuring validity of result\n",
    "\n",
    "\n",
    "1. **Problem Statement** - *What is the goal of the experiment?*\n",
    "    \n",
    "    Finding ways to generate more revenue for taxi cab drivers by discovering if customers spend higher when paying in credit card compared to cash. From the hypothesis testing result, the business can develope strategy to encourage customers to pay with credit cards, which will likely generate more revenue for taxi cab drivers.\n",
    "    \n",
    "    The metric used for assessing if customers spend higher with credit card payment type compared to cash payemnt type is the `total_amount` (The time-and-distance fare calculated by the meter) per day per trip.\n",
    "    \n",
    "    - Control group : the average total fare amount per day per trip from customers who paid in cash $(\\mu_{c})$\n",
    "    - Treatment group : the average total fare amount per day per trip from customers who paid in credit card $(\\mu_{t})$\n",
    "\n",
    "2. **Define Hypothesis** - *What result do you hypothesize from the experiment?*\n",
    "    \n",
    "    - $H_0 : \\mu_{c} = \\mu_{t}$\n",
    "    \n",
    "    There is no difference in average total fare amount between customers paid with cash and ones paid with credit card.\n",
    "    - $H_0 : \\mu_{c} \\not= \\mu_{t}$\n",
    "    \n",
    "    There is significant difference in average total fare amount between customers paid with cash and ones paid with credit card.\n",
    "    \n",
    "3. **Design the Experiment** - *What are your experiment parameters?*\n",
    "    \n",
    "    - Determine sample size by formula: $(n = \\frac {16\\sigma^2} {\\delta^2})$. where $\\sigma$ is the population standard deviation, and $\\delta$ is the smallest meaningful difference between the control and treatment group. The formula has assumptions that the significant level is $0.05$ and the statistical power is $0.8$. \n",
    "    \n",
    "    - In the scope of this project, I assume that the difference of $\\$2$ per trip between control and treatment group will be significant enough to launch future marketing projects for promoting credit card payment. The population standard deviation $\\sigma = 10$ is assumed in order to calculate the sample size.\n",
    "    \n",
    "    - Based on the above assumptions, the sample size needed for conducting A/B test is: $n = \\frac {16*(10)^2} {(2)^2} = 400$ for each group.\n",
    "    \n",
    "4. **Run the Experiment** - *What are the requirements for running an experiment?*\n",
    "    \n",
    "    Instruments and data pipelines are set up to collect data. For the purpose of this project, assume that the sample data comes from an experiment in which customers are randomly selected and divided into two groups: \n",
    "\n",
    "    1.  customers who are required to pay with cash\n",
    "    2.  customers who are required to pay with credit card\n",
    "    \n",
    "    Without this assumption, we cannot draw causal conclusions about how payment method affects fare amount.\n",
    "\n",
    "5. **Validity Checks** - *Did the experiment run soundly without errors or bias?*\n",
    "\n",
    "\n",
    "6. **Inteprete Results** - *In which direction is the metric significant statistically and practically?*\n",
    "\n",
    "\n",
    "7. **Launch Decision** - *Based on the results and trade-offs, should the change launch?*"
   ]
  },
  {
   "cell_type": "code",
   "execution_count": 185,
   "id": "27611553",
   "metadata": {},
   "outputs": [],
   "source": [
    "# extract credit and cash group from original data\n",
    "credit = data[data['payment_type'] == 1]['total_amount']\n",
    "cash = data[data['payment_type'] == 2]['total_amount']\n",
    "\n",
    "# sampling based on the calculated sample size of 400\n",
    "t_group = credit.sample(n = 400, replace = True, random_state = 1)\n",
    "c_group = cash.sample(n = 400, replace = True, random_state = 1)"
   ]
  },
  {
   "cell_type": "code",
   "execution_count": 186,
   "id": "c216e015",
   "metadata": {},
   "outputs": [
    {
     "name": "stdout",
     "output_type": "stream",
     "text": [
      "T-score: 6.735824687046151\n",
      "P-value: 3.120675999156806e-11\n",
      "\n",
      "P-value < 0.05, reject H_0, there's a significant difference in average total fare amount between customers who paid in credit card and customers who paid in cash\n"
     ]
    }
   ],
   "source": [
    "# conduct the hypothesis\n",
    "from scipy import stats\n",
    "t, p = stats.ttest_ind(a = t_group, b = c_group, equal_var = False)\n",
    "print('T-score:', t)\n",
    "print('P-value:', p)\n",
    "\n",
    "# conclude the hypothesis\n",
    "if p < 0.05:\n",
    "    print(\"\\nP-value < 0.05, reject H_0, there's a significant difference in average total fare amount between customers who paid in credit card and customers who paid in cash\")\n",
    "else:\n",
    "    print(\"\\nP-value > 0.05, fail to reject H_0, there's no significant difference in average total fare amount between customers who paid in credit card and customers who paid in cash\")"
   ]
  },
  {
   "cell_type": "markdown",
   "id": "1831fc04",
   "metadata": {},
   "source": [
    "# PACE: Execute stage\n",
    "---\n",
    "- What business insight(s) can be drawn from the result of the A/B test?\n",
    "- What recommendations can be suggestd?\n",
    "- How this hypothesis test is biased given the assumptions in the test?"
   ]
  },
  {
   "cell_type": "markdown",
   "id": "0131b9a0",
   "metadata": {},
   "source": [
    "## Insight Interpretation\n",
    "\n",
    "The calculated p-value is less than 0.05, it means that the probability of observing a difference in the average total fare amount between the cash and credit card groups is significant and not by chance alone. Therefore, I reject the null hypothesis and conclude that there is a significant difference in the average total fare amount between customers who paid with cash and those who paid with credit card.\n",
    "\n",
    "The A/B result provides insights into whether credit card payment can lead to higher revenue for taxi cab drivers. It's statistically significant is that customers who pay with credit card (treatment group) tend to spend more on taxi fares compared to those who pay with cash (control group). This may be due to the fact that paying with credit card is more convenient for customers, or that they feel more comfortable spending more when they don't have to physically hand over cash. Alternatively, it may be due to the fact that credit card users are more likely to be from higher income brackets and are therefore more willing and able to spend more on taxi fares. This can provide the basis for developing strategies to encourage more credit card payments and increase revenue.\n",
    "\n",
    "**The key business insight is that encouraging customers to pay with credit cards will likely generate more revenue for taxi cab drivers.**\n",
    "\n",
    "## Recommendations\n",
    "\n",
    "Based on this result, the business can develop strategies to encourage more customers to pay with credit cards. For example, they can offer discounts or incentives for credit card payments, advertise the benefits of paying with credit cards, and work on improving the payment system to make it more convenient for customers to pay with credit cards.\n",
    "\n",
    "## Analysis Drawbacks\n",
    "\n",
    "**Note: Given the assumptions, follwing factors need to be ajusted for the result to be valid and practical:**\n",
    "\n",
    "- The sample size of 400 was calculated based on assumptions about the population standard deviation and cusomters are randomly selected and divided into two groups. However, in reality, the population variance need to be based on previous research or A/B test, A/A test, further more, there may be factors that influence whether a customer pay with cash or credit card, such as age, income, or location. Failure to account for these factors could introduce bias into the results.\n",
    "\n",
    "\n",
    "- The experiment uses data come from a single city (New York). In reality, geographic difference may affects ho customers pay for taxi rides and how much they spend.\n",
    "\n",
    "\n",
    "- This dataset does not account for other likely explanations. For example, riders might not carry lots of cash, so it's easier to pay for longer/farther trips with a credit card. In other words, it's far more likely that total fare amount determines payment type, rather than vice versa."
   ]
  }
 ],
 "metadata": {
  "kernelspec": {
   "display_name": "Python 3",
   "language": "python",
   "name": "python3"
  },
  "language_info": {
   "codemirror_mode": {
    "name": "ipython",
    "version": 3
   },
   "file_extension": ".py",
   "mimetype": "text/x-python",
   "name": "python",
   "nbconvert_exporter": "python",
   "pygments_lexer": "ipython3",
   "version": "3.6.8"
  }
 },
 "nbformat": 4,
 "nbformat_minor": 5
}
